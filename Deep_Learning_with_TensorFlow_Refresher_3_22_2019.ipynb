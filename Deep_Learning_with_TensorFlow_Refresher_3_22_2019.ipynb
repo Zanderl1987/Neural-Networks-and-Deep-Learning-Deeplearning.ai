{
  "nbformat": 4,
  "nbformat_minor": 0,
  "metadata": {
    "colab": {
      "name": "Sentdex Deep Learning with TensorFlow Refresher 3-22-2019",
      "version": "0.3.2",
      "provenance": [],
      "collapsed_sections": []
    },
    "kernelspec": {
      "name": "python3",
      "display_name": "Python 3"
    },
    "accelerator": "GPU"
  },
  "cells": [
    {
      "metadata": {
        "id": "oXtbpdoYkh6t",
        "colab_type": "code",
        "colab": {}
      },
      "cell_type": "code",
      "source": [
        "import tensorflow as tf"
      ],
      "execution_count": 0,
      "outputs": []
    },
    {
      "metadata": {
        "id": "w6aK7hsbm85A",
        "colab_type": "code",
        "colab": {}
      },
      "cell_type": "code",
      "source": [
        "import time"
      ],
      "execution_count": 0,
      "outputs": []
    },
    {
      "metadata": {
        "id": "phon9k-qkjkK",
        "colab_type": "code",
        "outputId": "9523828a-f494-464a-cc95-c59a110441c4",
        "colab": {
          "base_uri": "https://localhost:8080/",
          "height": 1785
        }
      },
      "cell_type": "code",
      "source": [
        "%%time\n",
        "\n",
        "gpu_options = tf.GPUOptions(per_process_gpu_memory_fraction=0.333)\n",
        "sess = tf.Session(config=tf.ConfigProto(gpu_options=gpu_options))\n",
        "\n",
        "\n",
        "mnist = tf.keras.datasets.mnist\n",
        "\n",
        "(x_train, y_train), (x_test, y_test) = mnist.load_data()\n",
        "\n",
        "x_train = tf.keras.utils.normalize(x_train, axis=1)\n",
        "x_test = tf.keras.utils.normalize(x_test, axis=1)\n",
        "\n",
        "model = tf.keras.models.Sequential()\n",
        "\n",
        "model.add(tf.keras.layers.Dense(128, activation=tf.nn.relu))\n",
        "model.add(tf.keras.layers.Dense(128, activation=tf.nn.relu))\n",
        "model.add(tf.keras.layers.Dense(128, activation=tf.nn.relu))\n",
        "model.add(tf.keras.layers.Flatten())\n",
        "model.add(tf.keras.layers.Dense(128, activation=tf.nn.relu))\n",
        "model.add(tf.keras.layers.Dense(10, activation=tf.nn.softmax))\n",
        "\n",
        "model.compile(optimizer='adam',\n",
        "             loss='sparse_categorical_crossentropy',\n",
        "             metrics=['accuracy'])\n",
        "\n",
        "model.fit(x_train, y_train, epochs=50)"
      ],
      "execution_count": 6,
      "outputs": [
        {
          "output_type": "stream",
          "text": [
            "Epoch 1/50\n",
            "60000/60000 [==============================] - 27s 446us/sample - loss: 0.2564 - acc: 0.9195\n",
            "Epoch 2/50\n",
            "60000/60000 [==============================] - 26s 439us/sample - loss: 0.1058 - acc: 0.9672\n",
            "Epoch 3/50\n",
            "60000/60000 [==============================] - 26s 441us/sample - loss: 0.0814 - acc: 0.9749\n",
            "Epoch 4/50\n",
            "60000/60000 [==============================] - 26s 438us/sample - loss: 0.0688 - acc: 0.9783\n",
            "Epoch 5/50\n",
            "60000/60000 [==============================] - 26s 439us/sample - loss: 0.0573 - acc: 0.9820\n",
            "Epoch 6/50\n",
            "60000/60000 [==============================] - 26s 437us/sample - loss: 0.0475 - acc: 0.9844\n",
            "Epoch 7/50\n",
            "60000/60000 [==============================] - 26s 436us/sample - loss: 0.0434 - acc: 0.9864\n",
            "Epoch 8/50\n",
            "60000/60000 [==============================] - 26s 437us/sample - loss: 0.0372 - acc: 0.9881\n",
            "Epoch 9/50\n",
            "60000/60000 [==============================] - 26s 432us/sample - loss: 0.0326 - acc: 0.9898\n",
            "Epoch 10/50\n",
            "60000/60000 [==============================] - 26s 435us/sample - loss: 0.0299 - acc: 0.9903\n",
            "Epoch 11/50\n",
            "60000/60000 [==============================] - 26s 437us/sample - loss: 0.0268 - acc: 0.9911\n",
            "Epoch 12/50\n",
            "60000/60000 [==============================] - 26s 436us/sample - loss: 0.0240 - acc: 0.9921\n",
            "Epoch 13/50\n",
            "60000/60000 [==============================] - 26s 438us/sample - loss: 0.0226 - acc: 0.9925\n",
            "Epoch 14/50\n",
            "60000/60000 [==============================] - 26s 441us/sample - loss: 0.0187 - acc: 0.9935\n",
            "Epoch 15/50\n",
            "60000/60000 [==============================] - 26s 435us/sample - loss: 0.0205 - acc: 0.9935\n",
            "Epoch 16/50\n",
            "60000/60000 [==============================] - 26s 438us/sample - loss: 0.0181 - acc: 0.9938\n",
            "Epoch 17/50\n",
            "60000/60000 [==============================] - 26s 436us/sample - loss: 0.0158 - acc: 0.9946\n",
            "Epoch 18/50\n",
            "60000/60000 [==============================] - 26s 436us/sample - loss: 0.0149 - acc: 0.9950\n",
            "Epoch 19/50\n",
            "60000/60000 [==============================] - 26s 435us/sample - loss: 0.0150 - acc: 0.9948\n",
            "Epoch 20/50\n",
            "60000/60000 [==============================] - 26s 436us/sample - loss: 0.0139 - acc: 0.9955\n",
            "Epoch 21/50\n",
            "60000/60000 [==============================] - 26s 437us/sample - loss: 0.0126 - acc: 0.9958\n",
            "Epoch 22/50\n",
            "60000/60000 [==============================] - 26s 437us/sample - loss: 0.0119 - acc: 0.9960\n",
            "Epoch 23/50\n",
            "60000/60000 [==============================] - 26s 434us/sample - loss: 0.0130 - acc: 0.9960\n",
            "Epoch 24/50\n",
            "60000/60000 [==============================] - 26s 437us/sample - loss: 0.0126 - acc: 0.9957\n",
            "Epoch 25/50\n",
            "60000/60000 [==============================] - 26s 435us/sample - loss: 0.0107 - acc: 0.9965\n",
            "Epoch 26/50\n",
            "60000/60000 [==============================] - 26s 437us/sample - loss: 0.0108 - acc: 0.9965\n",
            "Epoch 27/50\n",
            "60000/60000 [==============================] - 26s 436us/sample - loss: 0.0121 - acc: 0.9960\n",
            "Epoch 28/50\n",
            "60000/60000 [==============================] - 26s 439us/sample - loss: 0.0104 - acc: 0.9965\n",
            "Epoch 29/50\n",
            "60000/60000 [==============================] - 26s 436us/sample - loss: 0.0115 - acc: 0.9964\n",
            "Epoch 30/50\n",
            "60000/60000 [==============================] - 26s 435us/sample - loss: 0.0095 - acc: 0.9967\n",
            "Epoch 31/50\n",
            "60000/60000 [==============================] - 26s 436us/sample - loss: 0.0086 - acc: 0.9972\n",
            "Epoch 32/50\n",
            "60000/60000 [==============================] - 26s 436us/sample - loss: 0.0109 - acc: 0.9966\n",
            "Epoch 33/50\n",
            "60000/60000 [==============================] - 26s 436us/sample - loss: 0.0091 - acc: 0.9974\n",
            "Epoch 34/50\n",
            "60000/60000 [==============================] - 26s 435us/sample - loss: 0.0087 - acc: 0.9973\n",
            "Epoch 35/50\n",
            "60000/60000 [==============================] - 26s 431us/sample - loss: 0.0082 - acc: 0.9974\n",
            "Epoch 36/50\n",
            "60000/60000 [==============================] - 26s 434us/sample - loss: 0.0090 - acc: 0.9973\n",
            "Epoch 37/50\n",
            "60000/60000 [==============================] - 26s 434us/sample - loss: 0.0092 - acc: 0.9974\n",
            "Epoch 38/50\n",
            "60000/60000 [==============================] - 26s 429us/sample - loss: 0.0058 - acc: 0.9985\n",
            "Epoch 39/50\n",
            "60000/60000 [==============================] - 26s 430us/sample - loss: 0.0094 - acc: 0.9973\n",
            "Epoch 40/50\n",
            "60000/60000 [==============================] - 26s 434us/sample - loss: 0.0089 - acc: 0.9973\n",
            "Epoch 41/50\n",
            "60000/60000 [==============================] - 26s 430us/sample - loss: 0.0076 - acc: 0.9977\n",
            "Epoch 42/50\n",
            "60000/60000 [==============================] - 26s 429us/sample - loss: 0.0088 - acc: 0.9974\n",
            "Epoch 43/50\n",
            "60000/60000 [==============================] - 26s 427us/sample - loss: 0.0065 - acc: 0.9981\n",
            "Epoch 44/50\n",
            "60000/60000 [==============================] - 26s 428us/sample - loss: 0.0074 - acc: 0.9978\n",
            "Epoch 45/50\n",
            "60000/60000 [==============================] - 26s 428us/sample - loss: 0.0065 - acc: 0.9980\n",
            "Epoch 46/50\n",
            "60000/60000 [==============================] - 26s 432us/sample - loss: 0.0061 - acc: 0.9978\n",
            "Epoch 47/50\n",
            "60000/60000 [==============================] - 26s 431us/sample - loss: 0.0077 - acc: 0.9974\n",
            "Epoch 48/50\n",
            "60000/60000 [==============================] - 26s 437us/sample - loss: 0.0058 - acc: 0.9984\n",
            "Epoch 49/50\n",
            "60000/60000 [==============================] - 27s 443us/sample - loss: 0.0074 - acc: 0.9977\n",
            "Epoch 50/50\n",
            "60000/60000 [==============================] - 26s 438us/sample - loss: 0.0069 - acc: 0.9980\n",
            "CPU times: user 25min 49s, sys: 4min 2s, total: 29min 52s\n",
            "Wall time: 21min 49s\n"
          ],
          "name": "stdout"
        }
      ]
    },
    {
      "metadata": {
        "id": "Vg8nfNYKlk_m",
        "colab_type": "code",
        "outputId": "6c383d54-a31e-4099-86dd-6d2970e8881a",
        "colab": {
          "base_uri": "https://localhost:8080/",
          "height": 52
        }
      },
      "cell_type": "code",
      "source": [
        "val_loss, val_acc = model.evaluate(x_test, y_test)\n",
        "print(val_loss, val_acc)"
      ],
      "execution_count": 7,
      "outputs": [
        {
          "output_type": "stream",
          "text": [
            "10000/10000 [==============================] - 2s 197us/sample - loss: 0.1158 - acc: 0.9816\n",
            "0.11584495655233004 0.9816\n"
          ],
          "name": "stdout"
        }
      ]
    },
    {
      "metadata": {
        "id": "C0XGATaCzELD",
        "colab_type": "code",
        "colab": {}
      },
      "cell_type": "code",
      "source": [
        ""
      ],
      "execution_count": 0,
      "outputs": []
    }
  ]
}